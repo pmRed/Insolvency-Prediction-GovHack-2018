{
 "cells": [
  {
   "cell_type": "code",
   "execution_count": 37,
   "metadata": {},
   "outputs": [],
   "source": [
    "import pandas as pd"
   ]
  },
  {
   "cell_type": "markdown",
   "metadata": {},
   "source": [
    "### Quick look at the data\n",
    "\n",
    "I am filtering out rows where the occupation code hasn't been recorded. Does this affect our results?"
   ]
  },
  {
   "cell_type": "code",
   "execution_count": 58,
   "metadata": {},
   "outputs": [
    {
     "name": "stderr",
     "output_type": "stream",
     "text": [
      "/home/nic/code/govhack2018-EZ0/venv/lib/python3.7/site-packages/IPython/core/interactiveshell.py:2785: DtypeWarning: Columns (17,18,19,21,22) have mixed types. Specify dtype option on import or set low_memory=False.\n",
      "  interactivity=interactivity, compiler=compiler, result=result)\n"
     ]
    },
    {
     "data": {
      "text/plain": [
       "(356500, 23)"
      ]
     },
     "metadata": {},
     "output_type": "display_data"
    },
    {
     "data": {
      "text/plain": [
       "(356500, 23)"
      ]
     },
     "metadata": {},
     "output_type": "display_data"
    },
    {
     "data": {
      "text/plain": [
       "Unique ID                                0\n",
       "Calendar Year of Insolvency              0\n",
       "SA3 of Debtor                            0\n",
       "SA3 Code of Debtor                       0\n",
       "GCCSA of Debtor                          0\n",
       "GCCSA Code of Debtor                     0\n",
       "State of Debtor                          0\n",
       "Sex of Debtor                            0\n",
       "Family Situation                         0\n",
       "Debtor Occupation Code (ANZSCO)      15886\n",
       "Debtor Occupation Name (ANZSCO)      15886\n",
       "Main Cause of Insolvency                 0\n",
       "Business Related Insolvency              0\n",
       "Debtor Income                            0\n",
       "Primary Income Source                    0\n",
       "Unsecured Debts                          0\n",
       "Value of Assets                          0\n",
       "Type of Party                       341629\n",
       "Non-Compliance Type                 341608\n",
       "Result of Non-Compliance            342306\n",
       "Number of Instances                 341608\n",
       "Outcome of Non-Compliance           345672\n",
       "Non-Compliance Conviction Result    352942\n",
       "dtype: int64"
      ]
     },
     "execution_count": 58,
     "metadata": {},
     "output_type": "execute_result"
    }
   ],
   "source": [
    "non_compliance_data = pd.read_csv('./data/afsa/non-compliance-in-personal-insolvencies.csv')\n",
    "display(non_compliance_data.shape)\n",
    "#non_compliance_data = non_compliance_data[non_compliance_data['Debtor Occupation Code (ANZSCO)'].notnull()]\n",
    "display(non_compliance_data.shape)\n",
    "non_compliance_data.isnull().sum()"
   ]
  },
  {
   "cell_type": "markdown",
   "metadata": {},
   "source": [
    "### 1. Find all unique family situations in non-compliance-in-personal-insolvencies.csv"
   ]
  },
  {
   "cell_type": "code",
   "execution_count": 59,
   "metadata": {},
   "outputs": [
    {
     "data": {
      "text/plain": [
       "array(['Single with Dependants', 'Couple without Dependants',\n",
       "       'Couple with Dependants', 'Single without Dependants', 'Unknown',\n",
       "       'Not Stated'], dtype=object)"
      ]
     },
     "metadata": {},
     "output_type": "display_data"
    }
   ],
   "source": [
    "display(non_compliance_data['Family Situation'].unique())\n",
    "family_situations = ['Single with Dependants', 'Couple without Dependants',\n",
    "       'Couple with Dependants', 'Single without Dependants']"
   ]
  },
  {
   "cell_type": "markdown",
   "metadata": {},
   "source": [
    "### 2. Express each such family situation in terms of the columns in B25 / G25"
   ]
  },
  {
   "cell_type": "code",
   "execution_count": 60,
   "metadata": {},
   "outputs": [
    {
     "data": {
      "text/html": [
       "<div>\n",
       "<style scoped>\n",
       "    .dataframe tbody tr th:only-of-type {\n",
       "        vertical-align: middle;\n",
       "    }\n",
       "\n",
       "    .dataframe tbody tr th {\n",
       "        vertical-align: top;\n",
       "    }\n",
       "\n",
       "    .dataframe thead th {\n",
       "        text-align: right;\n",
       "    }\n",
       "</style>\n",
       "<table border=\"1\" class=\"dataframe\">\n",
       "  <thead>\n",
       "    <tr style=\"text-align: right;\">\n",
       "      <th></th>\n",
       "      <th>SA3_CODE_2016</th>\n",
       "      <th>CF_no_children_F</th>\n",
       "      <th>CF_no_children_P</th>\n",
       "      <th>CF_ChU15_a_DSs_a_NdCh_F</th>\n",
       "      <th>CF_ChU15_a_DSs_a_NdCh_P</th>\n",
       "      <th>CF_ChU15_a_DSs_a_no_NdCh_F</th>\n",
       "      <th>CF_ChU15_a_DSs_a_no_NdCh_P</th>\n",
       "      <th>CF_ChU15_a_no_DSs_a_NdCh_F</th>\n",
       "      <th>CF_ChU15_a_no_DSs_a_NdCh_P</th>\n",
       "      <th>CF_ChU15_a_no_DSs_a_no_NdCh_F</th>\n",
       "      <th>...</th>\n",
       "      <th>OPF_no_ChU15_no_DSs_a_NdCh_F</th>\n",
       "      <th>OPF_no_ChU15_no_DSs_a_NdCh_P</th>\n",
       "      <th>OPF_no_ChU15_a_Total_F</th>\n",
       "      <th>OPF_no_ChU15_a_Total_P</th>\n",
       "      <th>OPF_Total_F</th>\n",
       "      <th>OPF_Total_P</th>\n",
       "      <th>Other_family_F</th>\n",
       "      <th>Other_family_P</th>\n",
       "      <th>Total_F</th>\n",
       "      <th>Total_P</th>\n",
       "    </tr>\n",
       "  </thead>\n",
       "  <tbody>\n",
       "    <tr>\n",
       "      <th>0</th>\n",
       "      <td>10102</td>\n",
       "      <td>5577</td>\n",
       "      <td>10999</td>\n",
       "      <td>105</td>\n",
       "      <td>573</td>\n",
       "      <td>762</td>\n",
       "      <td>3495</td>\n",
       "      <td>185</td>\n",
       "      <td>844</td>\n",
       "      <td>3963</td>\n",
       "      <td>...</td>\n",
       "      <td>722</td>\n",
       "      <td>1562</td>\n",
       "      <td>994</td>\n",
       "      <td>2231</td>\n",
       "      <td>2072</td>\n",
       "      <td>5214</td>\n",
       "      <td>180</td>\n",
       "      <td>370</td>\n",
       "      <td>15092</td>\n",
       "      <td>44276</td>\n",
       "    </tr>\n",
       "    <tr>\n",
       "      <th>1</th>\n",
       "      <td>10103</td>\n",
       "      <td>2220</td>\n",
       "      <td>4334</td>\n",
       "      <td>29</td>\n",
       "      <td>151</td>\n",
       "      <td>180</td>\n",
       "      <td>803</td>\n",
       "      <td>34</td>\n",
       "      <td>157</td>\n",
       "      <td>1057</td>\n",
       "      <td>...</td>\n",
       "      <td>259</td>\n",
       "      <td>547</td>\n",
       "      <td>355</td>\n",
       "      <td>752</td>\n",
       "      <td>682</td>\n",
       "      <td>1712</td>\n",
       "      <td>52</td>\n",
       "      <td>103</td>\n",
       "      <td>4808</td>\n",
       "      <td>13190</td>\n",
       "    </tr>\n",
       "    <tr>\n",
       "      <th>2</th>\n",
       "      <td>10104</td>\n",
       "      <td>10377</td>\n",
       "      <td>20461</td>\n",
       "      <td>95</td>\n",
       "      <td>535</td>\n",
       "      <td>566</td>\n",
       "      <td>2675</td>\n",
       "      <td>204</td>\n",
       "      <td>922</td>\n",
       "      <td>2988</td>\n",
       "      <td>...</td>\n",
       "      <td>1026</td>\n",
       "      <td>2105</td>\n",
       "      <td>1387</td>\n",
       "      <td>2936</td>\n",
       "      <td>2929</td>\n",
       "      <td>7522</td>\n",
       "      <td>195</td>\n",
       "      <td>399</td>\n",
       "      <td>19216</td>\n",
       "      <td>50111</td>\n",
       "    </tr>\n",
       "    <tr>\n",
       "      <th>3</th>\n",
       "      <td>10105</td>\n",
       "      <td>3922</td>\n",
       "      <td>7788</td>\n",
       "      <td>70</td>\n",
       "      <td>397</td>\n",
       "      <td>345</td>\n",
       "      <td>1603</td>\n",
       "      <td>137</td>\n",
       "      <td>650</td>\n",
       "      <td>1861</td>\n",
       "      <td>...</td>\n",
       "      <td>554</td>\n",
       "      <td>1167</td>\n",
       "      <td>733</td>\n",
       "      <td>1565</td>\n",
       "      <td>1551</td>\n",
       "      <td>4039</td>\n",
       "      <td>129</td>\n",
       "      <td>263</td>\n",
       "      <td>9184</td>\n",
       "      <td>25950</td>\n",
       "    </tr>\n",
       "    <tr>\n",
       "      <th>4</th>\n",
       "      <td>10106</td>\n",
       "      <td>4093</td>\n",
       "      <td>8081</td>\n",
       "      <td>83</td>\n",
       "      <td>441</td>\n",
       "      <td>450</td>\n",
       "      <td>2102</td>\n",
       "      <td>126</td>\n",
       "      <td>575</td>\n",
       "      <td>2160</td>\n",
       "      <td>...</td>\n",
       "      <td>448</td>\n",
       "      <td>927</td>\n",
       "      <td>608</td>\n",
       "      <td>1317</td>\n",
       "      <td>1350</td>\n",
       "      <td>3588</td>\n",
       "      <td>118</td>\n",
       "      <td>240</td>\n",
       "      <td>9571</td>\n",
       "      <td>27619</td>\n",
       "    </tr>\n",
       "  </tbody>\n",
       "</table>\n",
       "<p>5 rows × 47 columns</p>\n",
       "</div>"
      ],
      "text/plain": [
       "   SA3_CODE_2016  CF_no_children_F  CF_no_children_P  CF_ChU15_a_DSs_a_NdCh_F  \\\n",
       "0          10102              5577             10999                      105   \n",
       "1          10103              2220              4334                       29   \n",
       "2          10104             10377             20461                       95   \n",
       "3          10105              3922              7788                       70   \n",
       "4          10106              4093              8081                       83   \n",
       "\n",
       "   CF_ChU15_a_DSs_a_NdCh_P  CF_ChU15_a_DSs_a_no_NdCh_F  \\\n",
       "0                      573                         762   \n",
       "1                      151                         180   \n",
       "2                      535                         566   \n",
       "3                      397                         345   \n",
       "4                      441                         450   \n",
       "\n",
       "   CF_ChU15_a_DSs_a_no_NdCh_P  CF_ChU15_a_no_DSs_a_NdCh_F  \\\n",
       "0                        3495                         185   \n",
       "1                         803                          34   \n",
       "2                        2675                         204   \n",
       "3                        1603                         137   \n",
       "4                        2102                         126   \n",
       "\n",
       "   CF_ChU15_a_no_DSs_a_NdCh_P  CF_ChU15_a_no_DSs_a_no_NdCh_F   ...     \\\n",
       "0                         844                           3963   ...      \n",
       "1                         157                           1057   ...      \n",
       "2                         922                           2988   ...      \n",
       "3                         650                           1861   ...      \n",
       "4                         575                           2160   ...      \n",
       "\n",
       "   OPF_no_ChU15_no_DSs_a_NdCh_F  OPF_no_ChU15_no_DSs_a_NdCh_P  \\\n",
       "0                           722                          1562   \n",
       "1                           259                           547   \n",
       "2                          1026                          2105   \n",
       "3                           554                          1167   \n",
       "4                           448                           927   \n",
       "\n",
       "   OPF_no_ChU15_a_Total_F  OPF_no_ChU15_a_Total_P  OPF_Total_F  OPF_Total_P  \\\n",
       "0                     994                    2231         2072         5214   \n",
       "1                     355                     752          682         1712   \n",
       "2                    1387                    2936         2929         7522   \n",
       "3                     733                    1565         1551         4039   \n",
       "4                     608                    1317         1350         3588   \n",
       "\n",
       "   Other_family_F  Other_family_P  Total_F  Total_P  \n",
       "0             180             370    15092    44276  \n",
       "1              52             103     4808    13190  \n",
       "2             195             399    19216    50111  \n",
       "3             129             263     9184    25950  \n",
       "4             118             240     9571    27619  \n",
       "\n",
       "[5 rows x 47 columns]"
      ]
     },
     "execution_count": 60,
     "metadata": {},
     "output_type": "execute_result"
    }
   ],
   "source": [
    "g25 = pd.read_csv('./data/census/gcpsa3/2016 Census GCP Statistical Area 3 for AUST/2016Census_G25_AUS_SA3.csv')\n",
    "g25.head(5)"
   ]
  },
  {
   "cell_type": "code",
   "execution_count": 61,
   "metadata": {},
   "outputs": [
    {
     "data": {
      "text/plain": [
       "['CF_no_children_P',\n",
       " 'CF_ChU15_a_DSs_a_NdCh_P',\n",
       " 'CF_ChU15_a_DSs_a_no_NdCh_P',\n",
       " 'CF_ChU15_a_no_DSs_a_NdCh_P',\n",
       " 'CF_ChU15_a_no_DSs_a_no_NdCh_P',\n",
       " 'CF_ChU15_a_Total_P',\n",
       " 'CF_no_ChU15_a_DSs_a_NdCh_P',\n",
       " 'CF_no_ChU15_a_DSs_a_no_NdCh_P',\n",
       " 'CF_no_ChU15_a_no_DSs_a_NdCh_P',\n",
       " 'CF_no_ChU15_a_Total_P',\n",
       " 'CF_Total_P',\n",
       " 'OPF_ChU15_a_DSs_a_NdCh_P',\n",
       " 'OPF_ChU15_a_DSs_a_no_NdCh_P',\n",
       " 'OPF_ChU15_a_no_DSs_a_NdCh_P',\n",
       " 'OPF_ChU15_a_no_DSs_no_NdCh_P',\n",
       " 'OPF_ChU15_a_Total_P',\n",
       " 'OPF_no_ChU15_a_DSs_a_NdCh_P',\n",
       " 'OPF_no_ChU15_a_DSs_no_NdCh_P',\n",
       " 'OPF_no_ChU15_no_DSs_a_NdCh_P',\n",
       " 'OPF_no_ChU15_a_Total_P',\n",
       " 'OPF_Total_P',\n",
       " 'Other_family_P',\n",
       " 'Total_P']"
      ]
     },
     "metadata": {},
     "output_type": "display_data"
    },
    {
     "data": {
      "text/plain": [
       "23"
      ]
     },
     "metadata": {},
     "output_type": "display_data"
    }
   ],
   "source": [
    "persons_columns = list(filter(lambda e: e.endswith('_P'), g25.columns))\n",
    "display(persons_columns)\n",
    "display(len(persons_columns))"
   ]
  },
  {
   "cell_type": "code",
   "execution_count": 62,
   "metadata": {},
   "outputs": [],
   "source": [
    "a = ['CF_no_children_P', 'Couple without Dependants',\n",
    " 'CF_ChU15_a_DSs_a_NdCh_P', 'Couple with Dependants',\n",
    " 'CF_ChU15_a_DSs_a_no_NdCh_P', 'Couple with Dependants',\n",
    " 'CF_ChU15_a_no_DSs_a_NdCh_P', 'Couple with Dependants',\n",
    " 'CF_ChU15_a_no_DSs_a_no_NdCh_P', 'Couple with Dependants',\n",
    " #'CF_ChU15_a_Total_P',\n",
    " 'CF_no_ChU15_a_DSs_a_NdCh_P', 'Couple with Dependants',\n",
    " 'CF_no_ChU15_a_DSs_a_no_NdCh_P', 'Couple with Dependants',\n",
    " 'CF_no_ChU15_a_no_DSs_a_NdCh_P', 'Couple without Dependants', \n",
    " #'CF_no_ChU15_a_Total_P',\n",
    " #'CF_Total_P',\n",
    " 'OPF_ChU15_a_DSs_a_NdCh_P', 'Single with Dependants',\n",
    " 'OPF_ChU15_a_DSs_a_no_NdCh_P', 'Single with Dependants',\n",
    " 'OPF_ChU15_a_no_DSs_a_NdCh_P', 'Single with Dependants',\n",
    " 'OPF_ChU15_a_no_DSs_no_NdCh_P', 'Single with Dependants',\n",
    " #'OPF_ChU15_a_Total_P',\n",
    " 'OPF_no_ChU15_a_DSs_a_NdCh_P', 'Single with Dependants',\n",
    " 'OPF_no_ChU15_a_DSs_no_NdCh_P', 'Single with Dependants',\n",
    " 'OPF_no_ChU15_no_DSs_a_NdCh_P', 'Single without Dependants',\n",
    " #'OPF_no_ChU15_a_Total_P',\n",
    " #'OPF_Total_P',\n",
    " #'Other_family_P',\n",
    "#'Total_P'\n",
    "    ]"
   ]
  },
  {
   "cell_type": "code",
   "execution_count": 63,
   "metadata": {},
   "outputs": [
    {
     "data": {
      "text/plain": [
       "{'CF_no_children_P': 'Couple without Dependants',\n",
       " 'CF_ChU15_a_DSs_a_NdCh_P': 'Couple with Dependants',\n",
       " 'CF_ChU15_a_DSs_a_no_NdCh_P': 'Couple with Dependants',\n",
       " 'CF_ChU15_a_no_DSs_a_NdCh_P': 'Couple with Dependants',\n",
       " 'CF_ChU15_a_no_DSs_a_no_NdCh_P': 'Couple with Dependants',\n",
       " 'CF_no_ChU15_a_DSs_a_NdCh_P': 'Couple with Dependants',\n",
       " 'CF_no_ChU15_a_DSs_a_no_NdCh_P': 'Couple with Dependants',\n",
       " 'CF_no_ChU15_a_no_DSs_a_NdCh_P': 'Couple without Dependants',\n",
       " 'OPF_ChU15_a_DSs_a_NdCh_P': 'Single with Dependants',\n",
       " 'OPF_ChU15_a_DSs_a_no_NdCh_P': 'Single with Dependants',\n",
       " 'OPF_ChU15_a_no_DSs_a_NdCh_P': 'Single with Dependants',\n",
       " 'OPF_ChU15_a_no_DSs_no_NdCh_P': 'Single with Dependants',\n",
       " 'OPF_no_ChU15_a_DSs_a_NdCh_P': 'Single with Dependants',\n",
       " 'OPF_no_ChU15_a_DSs_no_NdCh_P': 'Single with Dependants',\n",
       " 'OPF_no_ChU15_no_DSs_a_NdCh_P': 'Single without Dependants'}"
      ]
     },
     "metadata": {},
     "output_type": "display_data"
    },
    {
     "data": {
      "text/plain": [
       "defaultdict(list,\n",
       "            {'Couple without Dependants': ['CF_no_children_P',\n",
       "              'CF_no_ChU15_a_no_DSs_a_NdCh_P'],\n",
       "             'Couple with Dependants': ['CF_ChU15_a_DSs_a_NdCh_P',\n",
       "              'CF_ChU15_a_DSs_a_no_NdCh_P',\n",
       "              'CF_ChU15_a_no_DSs_a_NdCh_P',\n",
       "              'CF_ChU15_a_no_DSs_a_no_NdCh_P',\n",
       "              'CF_no_ChU15_a_DSs_a_NdCh_P',\n",
       "              'CF_no_ChU15_a_DSs_a_no_NdCh_P'],\n",
       "             'Single with Dependants': ['OPF_ChU15_a_DSs_a_NdCh_P',\n",
       "              'OPF_ChU15_a_DSs_a_no_NdCh_P',\n",
       "              'OPF_ChU15_a_no_DSs_a_NdCh_P',\n",
       "              'OPF_ChU15_a_no_DSs_no_NdCh_P',\n",
       "              'OPF_no_ChU15_a_DSs_a_NdCh_P',\n",
       "              'OPF_no_ChU15_a_DSs_no_NdCh_P'],\n",
       "             'Single without Dependants': ['OPF_no_ChU15_no_DSs_a_NdCh_P']})"
      ]
     },
     "metadata": {},
     "output_type": "display_data"
    }
   ],
   "source": [
    "b25_to_insolvencies = dict(zip(a[::2], a[1::2]))\n",
    "from collections import defaultdict\n",
    "insolvencies_to_b25 = defaultdict(list)\n",
    "for a,b in (zip(a[1::2], a[::2])):\n",
    "    insolvencies_to_b25[a].append(b)\n",
    "#insolvencies_to_b25 = dict(zip(a[1::2], a[::2]))\n",
    "display(b25_to_insolvencies)\n",
    "display(insolvencies_to_b25)"
   ]
  },
  {
   "cell_type": "markdown",
   "metadata": {},
   "source": [
    "You can extract the data like this:"
   ]
  },
  {
   "cell_type": "code",
   "execution_count": 64,
   "metadata": {},
   "outputs": [
    {
     "data": {
      "text/plain": [
       "14915"
      ]
     },
     "execution_count": 64,
     "metadata": {},
     "output_type": "execute_result"
    }
   ],
   "source": [
    "x = g25.loc[0]\n",
    "#display(x)\n",
    "x[['CF_no_children_P', 'CF_ChU15_a_DSs_a_NdCh_P']]\n",
    "x[insolvencies_to_b25['Couple without Dependants']].sum()\n",
    "# Apparently you can do this with .groupby"
   ]
  },
  {
   "cell_type": "markdown",
   "metadata": {},
   "source": [
    "### 3. Produce a new version of B25 whose columns are the family situations found in (1)"
   ]
  },
  {
   "cell_type": "code",
   "execution_count": 65,
   "metadata": {},
   "outputs": [
    {
     "data": {
      "text/html": [
       "<div>\n",
       "<style scoped>\n",
       "    .dataframe tbody tr th:only-of-type {\n",
       "        vertical-align: middle;\n",
       "    }\n",
       "\n",
       "    .dataframe tbody tr th {\n",
       "        vertical-align: top;\n",
       "    }\n",
       "\n",
       "    .dataframe thead th {\n",
       "        text-align: right;\n",
       "    }\n",
       "</style>\n",
       "<table border=\"1\" class=\"dataframe\">\n",
       "  <thead>\n",
       "    <tr style=\"text-align: right;\">\n",
       "      <th></th>\n",
       "      <th>SA3_CODE_2016</th>\n",
       "      <th>Single with Dependants</th>\n",
       "      <th>Couple without Dependants</th>\n",
       "      <th>Couple with Dependants</th>\n",
       "      <th>Single without Dependants</th>\n",
       "    </tr>\n",
       "  </thead>\n",
       "  <tbody>\n",
       "    <tr>\n",
       "      <th>0</th>\n",
       "      <td>10102</td>\n",
       "      <td>3658</td>\n",
       "      <td>14915</td>\n",
       "      <td>23770</td>\n",
       "      <td>1562</td>\n",
       "    </tr>\n",
       "    <tr>\n",
       "      <th>1</th>\n",
       "      <td>10103</td>\n",
       "      <td>1164</td>\n",
       "      <td>5292</td>\n",
       "      <td>6082</td>\n",
       "      <td>547</td>\n",
       "    </tr>\n",
       "    <tr>\n",
       "      <th>2</th>\n",
       "      <td>10104</td>\n",
       "      <td>5422</td>\n",
       "      <td>24122</td>\n",
       "      <td>18069</td>\n",
       "      <td>2105</td>\n",
       "    </tr>\n",
       "    <tr>\n",
       "      <th>3</th>\n",
       "      <td>10105</td>\n",
       "      <td>2863</td>\n",
       "      <td>10250</td>\n",
       "      <td>11383</td>\n",
       "      <td>1167</td>\n",
       "    </tr>\n",
       "    <tr>\n",
       "      <th>4</th>\n",
       "      <td>10106</td>\n",
       "      <td>2660</td>\n",
       "      <td>10354</td>\n",
       "      <td>13446</td>\n",
       "      <td>927</td>\n",
       "    </tr>\n",
       "  </tbody>\n",
       "</table>\n",
       "</div>"
      ],
      "text/plain": [
       "   SA3_CODE_2016  Single with Dependants  Couple without Dependants  \\\n",
       "0          10102                    3658                      14915   \n",
       "1          10103                    1164                       5292   \n",
       "2          10104                    5422                      24122   \n",
       "3          10105                    2863                      10250   \n",
       "4          10106                    2660                      10354   \n",
       "\n",
       "   Couple with Dependants  Single without Dependants  \n",
       "0                   23770                       1562  \n",
       "1                    6082                        547  \n",
       "2                   18069                       2105  \n",
       "3                   11383                       1167  \n",
       "4                   13446                        927  "
      ]
     },
     "metadata": {},
     "output_type": "display_data"
    }
   ],
   "source": [
    "new_columns = ['SA3_CODE_2016', *family_situations]\n",
    "def g25_to_insolvencies(row):\n",
    "    data = [row['SA3_CODE_2016']]\n",
    "    data.extend([row[insolvencies_to_b25[x]].sum() for x in family_situations])\n",
    "    return data\n",
    "\n",
    "yes_finally_why_was_this_so_hard = g25.apply(g25_to_insolvencies, axis=1, result_type='expand')\n",
    "yes_finally_why_was_this_so_hard.columns = new_columns\n",
    "display(yes_finally_why_was_this_so_hard.head(5))\n",
    "yes_finally_why_was_this_so_hard.to_csv('./data/preprocess/b25_but_with_less_family_situation_granularity.csv', index=False)"
   ]
  },
  {
   "cell_type": "markdown",
   "metadata": {},
   "source": [
    "### Add sub-major group column to non-compliance data"
   ]
  },
  {
   "cell_type": "code",
   "execution_count": null,
   "metadata": {},
   "outputs": [],
   "source": [
    "import numpy as np\n",
    "non_compliance_data['Debtor Occupation Code (Major) (ANZSCO)'] = non_compliance_data['Debtor Occupation Code (ANZSCO)'].apply(lambda e: np.nan if np.isnan(e) else int(str(e)[0])).fillna(10.0)\n",
    "non_compliance_data.to_csv('./data/preprocess/non-compliance-major-group.csv', index=False)"
   ]
  },
  {
   "cell_type": "code",
   "execution_count": null,
   "metadata": {},
   "outputs": [],
   "source": []
  }
 ],
 "metadata": {
  "kernelspec": {
   "display_name": "Python 3",
   "language": "python",
   "name": "python3"
  },
  "language_info": {
   "codemirror_mode": {
    "name": "ipython",
    "version": 3
   },
   "file_extension": ".py",
   "mimetype": "text/x-python",
   "name": "python",
   "nbconvert_exporter": "python",
   "pygments_lexer": "ipython3",
   "version": "3.7.0"
  }
 },
 "nbformat": 4,
 "nbformat_minor": 2
}
